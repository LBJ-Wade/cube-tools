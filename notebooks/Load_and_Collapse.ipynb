{
 "cells": [
  {
   "cell_type": "markdown",
   "metadata": {},
   "source": [
    "# Demo of general loading and collapsing to 1D"
   ]
  },
  {
   "cell_type": "markdown",
   "metadata": {},
   "source": [
    "Start glue"
   ]
  },
  {
   "cell_type": "code",
   "execution_count": 7,
   "metadata": {
    "collapsed": false
   },
   "outputs": [
    {
     "name": "stdout",
     "output_type": "stream",
     "text": [
      "Starting job # 5 in a separate thread.\n"
     ]
    }
   ],
   "source": [
    "%%bash --bg\n",
    "cd /Users/eisenham/Documents/ssbdev/cube-tools/glue_loader\n",
    "glue"
   ]
  },
  {
   "cell_type": "markdown",
   "metadata": {},
   "source": [
    "Read in a MaNGA cube using the general FITS reader.\n",
    "\n",
    "<img src='multimedia/lc_read_fits.png' width=80% />\n",
    "<img src='multimedia/lc_datasets.png' width=80% />"
   ]
  },
  {
   "cell_type": "markdown",
   "metadata": {},
   "source": [
    "Define a region-of-interest, or ROI\n",
    "\n",
    "<img src='multimedia/lc_roi.png' width=80% />"
   ]
  },
  {
   "cell_type": "markdown",
   "metadata": {},
   "source": [
    "Select the from the contextual drop-down on the desired subset data, the \"Collapse to 1D\" option\n",
    "\n",
    "<img src='multimedia/lc_dropdown.png' widht=80% />"
   ]
  },
  {
   "cell_type": "markdown",
   "metadata": {},
   "source": [
    "After calculating, a new dataset should appear\n",
    "\n",
    "<img src='multimedia/lc_1d_data.png' width=80% />\n",
    "\n",
    "which can be displayed as usual\n",
    "\n",
    "<img src='multimedia/lc_1d_display.png' width=80% />\n"
   ]
  },
  {
   "cell_type": "markdown",
   "metadata": {},
   "source": [
    "You can also drag the ROI and perform another collapse.\n",
    "\n",
    "<img src='multimedia/lc_another_roi.png' width=80% />"
   ]
  },
  {
   "cell_type": "code",
   "execution_count": null,
   "metadata": {
    "collapsed": true
   },
   "outputs": [],
   "source": []
  }
 ],
 "metadata": {
  "kernelspec": {
   "display_name": "Python 2",
   "language": "python",
   "name": "python2"
  },
  "language_info": {
   "codemirror_mode": {
    "name": "ipython",
    "version": 2
   },
   "file_extension": ".py",
   "mimetype": "text/x-python",
   "name": "python",
   "nbconvert_exporter": "python",
   "pygments_lexer": "ipython2",
   "version": "2.7.9"
  }
 },
 "nbformat": 4,
 "nbformat_minor": 0
}
