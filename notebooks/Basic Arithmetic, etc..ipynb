{
 "cells": [
  {
   "cell_type": "markdown",
   "metadata": {},
   "source": [
    "# Interacting with cube data"
   ]
  },
  {
   "cell_type": "markdown",
   "metadata": {},
   "source": [
    "## File I/O\n",
    "The core `CubeData` object now directly recognizes FITS files using to AstroPy's IO registry."
   ]
  },
  {
   "cell_type": "code",
   "execution_count": 5,
   "metadata": {
    "collapsed": false
   },
   "outputs": [
    {
     "name": "stdout",
     "output_type": "stream",
     "text": [
      "Populating the interactive namespace from numpy and matplotlib\n"
     ]
    },
    {
     "name": "stderr",
     "output_type": "stream",
     "text": [
      ":0: FutureWarning: IPython widgets are experimental and may change in the future.\n"
     ]
    }
   ],
   "source": [
    "# Import CubeData object along with some iPython widgetry\n",
    "import sys\n",
    "cube_tools_path = \"/Users/nearl/projects/cube-tools\"\n",
    "sys.path.insert(0, cube_tools_path)\n",
    "from cube_tools import CubeData\n",
    "\n",
    "from IPython.html import widgets # Widget definitions\n",
    "from IPython.display import display # Used to display widgets in the notebook\n",
    "\n",
    "%pylab inline\n",
    "pylab.rcParams['figure.figsize'] = (12.0, 8.0)"
   ]
  },
  {
   "cell_type": "code",
   "execution_count": 2,
   "metadata": {
    "collapsed": false
   },
   "outputs": [
    {
     "name": "stderr",
     "output_type": "stream",
     "text": [
      "WARNING:astropy:AstropyDeprecationWarning: Config parameter 'name_resolve_timeout' in section [coordinates.name_resolve] of the file '/Users/nearl/.astropy/config/astropy.cfg' is deprecated. Use 'remote_timeout' in section [utils.data] instead.\n",
      "WARNING:astropy:AstropyDeprecationWarning: Config parameter 'remote_timeout' in section [utils.data] of the file '/Users/nearl/.astropy/config/astropy.cfg' is given by more than one alias (astropy.utils.data.remote_timeout, coordinates.name_resolve.name_resolve_timeout). Using the first.\n",
      "WARNING:astropy:FITSFixedWarning: The WCS transformation has more axes (2) than the image it is associated with (0)\n"
     ]
    }
   ],
   "source": [
    "%%capture\n",
    "# Create our CubeData object\n",
    "my_data = CubeData.read(\"/Users/nearl/Downloads/Cube_IFU_cube_MON-COMBO-IFU-05_8409_jlab85.fits\")"
   ]
  },
  {
   "cell_type": "code",
   "execution_count": 3,
   "metadata": {
    "collapsed": false
   },
   "outputs": [],
   "source": [
    "# Define callable for iPython widgets\n",
    "def cube_slice_plotter(wl):\n",
    "    f, (ax1, ax2) = plt.subplots(1, 2)\n",
    "    ax1.imshow(my_data[wl, :, :].data, interpolation='none')\n",
    "    ax1.set_title(\"Data\")\n",
    "    ax2.imshow(my_data[wl, :, :].uncertainty.array, interpolation='none')\n",
    "    ax2.set_title(\"Uncertainty\")\n",
    "    plt.show()"
   ]
  },
  {
   "cell_type": "code",
   "execution_count": 4,
   "metadata": {
    "collapsed": false
   },
   "outputs": [
    {
     "data": {
      "image/png": "[encoded data removed]",
      "text/plain": [
       "<matplotlib.figure.Figure at 0x10bb30210>"
      ]
     },
     "metadata": {},
     "output_type": "display_data"
    }
   ],
   "source": [
    "# Show CubeData; allow for sliding through the data cube along wavelength axis\n",
    "widgets.interact(cube_slice_plotter, wl=(0, my_data.data.shape[0]-1))"
   ]
  },
  {
   "cell_type": "markdown",
   "metadata": {
    "collapsed": true
   },
   "source": [
    "## Arithmetic\n",
    "Arithmetic operations have also been implemented for working with CubeData objects. Let's see what the corner of our cube looks like right now."
   ]
  },
  {
   "cell_type": "code",
   "execution_count": 5,
   "metadata": {
    "collapsed": false
   },
   "outputs": [
    {
     "data": {
      "text/latex": [
       "$-1.1266306 \\times 10^{10} \\; \\mathrm{\\frac{Jy}{\\mathring{A}}}$"
      ],
      "text/plain": [
       "<Quantity -11266306048.0 Jy / Angstrom>"
      ]
     },
     "execution_count": 5,
     "metadata": {},
     "output_type": "execute_result"
    }
   ],
   "source": [
    "my_data[0, 0, 0]"
   ]
  },
  {
   "cell_type": "markdown",
   "metadata": {},
   "source": [
    "### Operations with basic types"
   ]
  },
  {
   "cell_type": "code",
   "execution_count": 6,
   "metadata": {
    "collapsed": false
   },
   "outputs": [
    {
     "data": {
      "text/latex": [
       "$8.733694 \\times 10^{9} \\; \\mathrm{\\frac{Jy}{\\mathring{A}}}$"
      ],
      "text/plain": [
       "<Quantity 8733693952.0 Jy / Angstrom>"
      ]
     },
     "execution_count": 6,
     "metadata": {},
     "output_type": "execute_result"
    }
   ],
   "source": [
    "# Addition\n",
    "my_data += 2e10\n",
    "my_data[0, 0, 0]"
   ]
  },
  {
   "cell_type": "code",
   "execution_count": 7,
   "metadata": {
    "collapsed": false
   },
   "outputs": [
    {
     "data": {
      "text/latex": [
       "$8.733694 \\times 10^{9} \\; \\mathrm{\\frac{Jy}{\\mathring{A}}}$"
      ],
      "text/plain": [
       "<Quantity 8733693954.0 Jy / Angstrom>"
      ]
     },
     "execution_count": 7,
     "metadata": {},
     "output_type": "execute_result"
    }
   ],
   "source": [
    "# Multiplication\n",
    "my_data *= 2\n",
    "my_data[0, 0, 0]"
   ]
  },
  {
   "cell_type": "markdown",
   "metadata": {},
   "source": [
    "### Operations with other CubeData objects"
   ]
  },
  {
   "cell_type": "code",
   "execution_count": 7,
   "metadata": {
    "collapsed": false
   },
   "outputs": [
    {
     "name": "stderr",
     "output_type": "stream",
     "text": [
      "WARNING: AstropyDeprecationWarning: Config parameter 'name_resolve_timeout' in section [coordinates.name_resolve] of the file '/Users/nearl/.astropy/config/astropy.cfg' is deprecated. Use 'remote_timeout' in section [utils.data] instead. [astropy.config.configuration]\n",
      "WARNING:astropy:AstropyDeprecationWarning: Config parameter 'name_resolve_timeout' in section [coordinates.name_resolve] of the file '/Users/nearl/.astropy/config/astropy.cfg' is deprecated. Use 'remote_timeout' in section [utils.data] instead.\n",
      "WARNING: AstropyDeprecationWarning: Config parameter 'remote_timeout' in section [utils.data] of the file '/Users/nearl/.astropy/config/astropy.cfg' is given by more than one alias (astropy.utils.data.remote_timeout, coordinates.name_resolve.name_resolve_timeout). Using the first. [astropy.config.configuration]\n",
      "WARNING:astropy:AstropyDeprecationWarning: Config parameter 'remote_timeout' in section [utils.data] of the file '/Users/nearl/.astropy/config/astropy.cfg' is given by more than one alias (astropy.utils.data.remote_timeout, coordinates.name_resolve.name_resolve_timeout). Using the first.\n",
      "WARNING: FITSFixedWarning: The WCS transformation has more axes (2) than the image it is associated with (0) [astropy.wcs.wcs]\n",
      "WARNING:astropy:FITSFixedWarning: The WCS transformation has more axes (2) than the image it is associated with (0)\n"
     ]
    }
   ],
   "source": [
    "my_data = CubeData.read(\"/Users/nearl/Downloads/Cube_IFU_cube_MON-COMBO-IFU-05_8409_jlab85.fits\")\n",
    "my_other_data = CubeData.read(\"/Users/nearl/Downloads/Cube_IFU_cube_MON-COMBO-IFU-05_8409_jlab85.fits\")"
   ]
  },
  {
   "cell_type": "code",
   "execution_count": 11,
   "metadata": {
    "collapsed": false
   },
   "outputs": [
    {
     "name": "stderr",
     "output_type": "stream",
     "text": [
      "INFO:astropy:The uncertainty classes used do not support the propagation of correlated errors, so uncertainties will be propagated assuming they are uncorrelated\n"
     ]
    },
    {
     "name": "stdout",
     "output_type": "stream",
     "text": [
      "INFO: The uncertainty classes used do not support the propagation of correlated errors, so uncertainties will be propagated assuming they are uncorrelated [astropy.nddata.mixins.ndarithmetic]\n",
      "\n",
      "Original value at [0, 0, 0] for my_data:       -11266306048.0 Jy / Angstrom\n",
      "Original value at [0, 0, 0] for my_other_Data: -11266306048.0 Jy / Angstrom\n",
      "New value at [0, 0, 0] for new_data:           -22532612096.0 Jy / Angstrom\n",
      "\n"
     ]
    }
   ],
   "source": [
    "# Addition\n",
    "new_data = my_data + my_other_data\n",
    "\n",
    "print(\"\"\"\n",
    "Original value at [0, 0, 0] for my_data:       {}\n",
    "Original value at [0, 0, 0] for my_other_Data: {}\n",
    "New value at [0, 0, 0] for new_data:           {}\n",
    "\"\"\".format(my_data[0, 0 ,0], my_other_data[0, 0, 0], new_data[0, 0, 0]))"
   ]
  },
  {
   "cell_type": "markdown",
   "metadata": {},
   "source": [
    "### Collapsing cube"
   ]
  },
  {
   "cell_type": "code",
   "execution_count": 10,
   "metadata": {
    "collapsed": false
   },
   "outputs": [
    {
     "data": {
      "text/plain": [
       "<matplotlib.text.Text at 0x117b00c10>"
      ]
     },
     "execution_count": 10,
     "metadata": {},
     "output_type": "execute_result"
    },
    {
     "data": {
      "image/png": "[encoded data removed]",
      "text/plain": [
       "<matplotlib.figure.Figure at 0x117885950>"
      ]
     },
     "metadata": {},
     "output_type": "display_data"
    }
   ],
   "source": [
    "f, (ax1, ax2, ax4) = plt.subplots(1, 3)\n",
    "\n",
    "# mean\n",
    "ax1.imshow(my_data.collapse(method=\"mean\").data, interpolation='none')\n",
    "ax1.set_title(\"Mean\")\n",
    "\n",
    "# Median\n",
    "ax2.imshow(my_data.collapse(method=\"median\").data, interpolation='none')\n",
    "ax2.set_title(\"Median\")\n",
    "\n",
    "# Half way slice\n",
    "ax4.imshow(my_data[my_data.data.shape[0] * 0.5, :, :].data, interpolation='none')\n",
    "ax4.set_title(\"Half way slice\")"
   ]
  },
  {
   "cell_type": "code",
   "execution_count": null,
   "metadata": {
    "collapsed": true
   },
   "outputs": [],
   "source": []
  }
 ],
 "metadata": {
  "kernelspec": {
   "display_name": "Python 2",
   "language": "python",
   "name": "python2"
  },
  "language_info": {
   "codemirror_mode": {
    "name": "ipython",
    "version": 2
   },
   "file_extension": ".py",
   "mimetype": "text/x-python",
   "name": "python",
   "nbconvert_exporter": "python",
   "pygments_lexer": "ipython2",
   "version": "2.7.9"
  }
 },
 "nbformat": 4,
 "nbformat_minor": 0
}
